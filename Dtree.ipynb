{
 "cells": [
  {
   "cell_type": "markdown",
   "metadata": {},
   "source": [
    "# DTree Example"
   ]
  },
  {
   "cell_type": "code",
   "execution_count": 25,
   "metadata": {},
   "outputs": [],
   "source": [
    "from DTree import DTree\n",
    "from DTree.Formula import formula\n",
    "\n",
    "from Lifting import Lifting\n",
    "import json\n",
    "import time"
   ]
  },
  {
   "cell_type": "code",
   "execution_count": 26,
   "metadata": {},
   "outputs": [
    {
     "data": {
      "text/plain": [
       "<DTree.Formula.formula at 0x27405d0b980>"
      ]
     },
     "execution_count": 26,
     "metadata": {},
     "output_type": "execute_result"
    }
   ],
   "source": [
    "Lifting = Lifting.Lifting()\n",
    "with open(\"data/hard/factorisedFormulas/17e_n_name4_factorised.json\") as fp:\n",
    "    JsonObject = json.load(fp)\n",
    "lineage = JsonObject[0]  \n",
    "testFormula = formula(lineage)\n",
    "current_id = Lifting.lift_read_once_clause(testFormula)\n",
    "testFormula.reduce_depth(testFormula)\n",
    "Lifting.lift_formula(testFormula, current_id)\n",
    "testFormula.reduce_depth(testFormula)"
   ]
  },
  {
   "cell_type": "code",
   "execution_count": 27,
   "metadata": {},
   "outputs": [
    {
     "name": "stdout",
     "output_type": "stream",
     "text": [
      "DTREE_GATE.Independent_And DTREE_GATE.Independent_Or DTREE_GATE.Independent_Or DTREE_GATE.Independent_And {\"operator\": and,\n",
      " \"subformula\": [198, d8d9e884-f059-4224-aafb-ebce8e1629f4]} {\"operator\": and,\n",
      " \"subformula\": [199, 194, 195, 196, 197]} DTREE_GATE.Independent_Or {\"operator\": and,\n",
      " \"subformula\": [444b137e-a3e2-4433-8caf-68c61c62c5d9, 93]} {\"operator\": or,\n",
      " \"subformula\": [65, 66, 67, 68, 94, 95, 96]} DTREE_GATE.Independent_Or DTREE_GATE.Independent_Or DTREE_GATE.Independent_Or DTREE_GATE.Exclusive_Or True DTREE_GATE.Exclusive_Or True DTREE_GATE.Exclusive_Or True False DTREE_GATE.Independent_Or DTREE_GATE.Exclusive_Or True DTREE_GATE.Exclusive_Or True DTREE_GATE.Exclusive_Or True False {\"operator\": or,\n",
      " \"subformula\": [143, 144]} {\"operator\": or,\n",
      " \"subformula\": [17, 18, 20, 171, 172, 173]} DTREE_GATE.Independent_Or DTREE_GATE.Independent_Or DTREE_GATE.Independent_Or DTREE_GATE.Exclusive_Or DTREE_GATE.Independent_Or 162 {\"operator\": or,\n",
      " \"subformula\": [269, 80, 202]} DTREE_GATE.Exclusive_Or DTREE_GATE.Independent_Or 269 202 DTREE_GATE.Exclusive_Or DTREE_GATE.Exclusive_Or True False False DTREE_GATE.Independent_Or {\"operator\": and,\n",
      " \"subformula\": [af254d6a-f68a-42f3-baf2-7b26acbc3dee, 203]} {\"operator\": or,\n",
      " \"subformula\": [200, 201, 204, 205, 206, 207, 208, 209]} DTREE_GATE.Independent_Or {\"operator\": and,\n",
      " \"subformula\": [09a9ff5d-43be-4715-8287-3102cb666739, 78]} DTREE_GATE.Independent_Or DTREE_GATE.Exclusive_Or True False {\"operator\": or,\n",
      " \"subformula\": [77, 79, 82, 83, 84, 85]} DTREE_GATE.Independent_Or DTREE_GATE.Exclusive_Or True {\"operator\": or,\n",
      " \"subformula\": [8f25954b-281f-462f-a06c-fc3e59e5138b]} DTREE_GATE.Independent_Or {\"operator\": and,\n",
      " \"subformula\": [ff520aff-e17d-4d91-8625-ed89b76fa5a4, 219]} DTREE_GATE.Independent_Or {\"operator\": and,\n",
      " \"subformula\": [b715ea71-bc11-499a-9417-9c484ba46b16, 244]} DTREE_GATE.Independent_Or DTREE_GATE.Exclusive_Or True False DTREE_GATE.Independent_Or DTREE_GATE.Exclusive_Or True False DTREE_GATE.Independent_Or {\"operator\": and,\n",
      " \"subformula\": [9bc38b77-4294-4a67-9f87-d68b9bef8699, 229]} {\"operator\": or,\n",
      " \"subformula\": [234, 8, 21, 34, 45, 56, 69, 86, 97, 112, 118, 126, 133, 145, 163, 174, 193, 210, 220, 233, 245, 257, 271, 16, 9, 10, 11, 12, 14, 15, 40, 35, 36, 38, 64, 57, 58, 59, 61, 62, 92, 89, 90, 91, 117, 114, 116, 129, 127, 128, 153, 147, 149, 150, 151, 152, 182, 175, 177, 178, 179, 180, 217, 211, 212, 213, 215, 251, 246, 247, 248, 250, 280, 273, 275, 276, 277, 278, 279, 13, 37, 39, 60, 302ab7dc-f39a-480d-821b-fad4020c54f9, 63, e061784f-2350-4776-9fb3-695b0083b60c, 87, 113, 885a829b-c4b0-4d16-b9c8-1daaca6f4316, 115, 79020ea6-c94a-49fd-92b7-30795981424b, 146, 148, 176, e061784f-2350-4776-9fb3-695b0083b60c, 181, 302ab7dc-f39a-480d-821b-fad4020c54f9, 214, 216, 249, 272, e061784f-2350-4776-9fb3-695b0083b60c, 274, fc5422dc-0013-4b0f-b4af-f4e87faf8f12, 28, 24, 25, 26, 27, 76, 70, 71, 72, 73, 75, 121, 119, 169, 165, 166, 167, 168, 226, 221, 222, 223, 224, 225, 262, 258, 259, 260, 261, 88, 22, 74, 120, 164, 48, 140, 136, 137, 138, 139, 23, 46, 134, e061784f-2350-4776-9fb3-695b0083b60c, 103, 98, 99, 101, 102, 47, 60b32243-97b9-4c68-b693-73299de50a81, 135, 302ab7dc-f39a-480d-821b-fad4020c54f9, 100, 0, 1, 2, 3, 4, 5, 6, 7, 29, 30, 33, 51, 52, 53, 54, 55, 104, 105, 106, 107, 108, 109, 110, 111, 130, 131, 154, 155, 156, 157, 158, 159, 160, 161, 183, 184, 185, 186, 187, 188, 189, 190, 191, 192, 235, 236, 237, 238, 239, 240, 241, 242, 243, 263, 264, 265, 266, 267, 268, 270, 43, 44, 122, 123, 124, 125, 227, 228, 230, 231, 232, 252, 253, 254, 255, 256]} 281\n"
     ]
    }
   ],
   "source": [
    "dtree = DTree.Dtree(testFormula, None)\n",
    "print(dtree)"
   ]
  },
  {
   "cell_type": "code",
   "execution_count": 28,
   "metadata": {},
   "outputs": [],
   "source": [
    "def calculate_banzhaf2(dtree, timeout=3600):\n",
    "    if dtree.variable_count == 0:\n",
    "        return {\"status\": \"Success\", \"expansion_time\": 0, \"calculation_time\": 0, \"depth\": 0, \"banzhaf_values\": {}}\n",
    "    banzhaf_vals = {}\n",
    "    start = time.time()\n",
    "    for fact in dtree.variables:\n",
    "        banzhaf_vals[fact] = dtree.critical_assignments_fact(fact)\n",
    "        mid = time.time()\n",
    "        if mid - start > timeout:\n",
    "            return {\"status\": \"Failed\", \"calculation_time\": \"Failed\", \"banzhaf_values\": banzhaf_vals}\n",
    "    end = time.time()\n",
    "    calc_time = end - start\n",
    "    return {\"status\": \"Success\",\"calculation_time\": calc_time, \"banzhaf_values\": banzhaf_vals}"
   ]
  },
  {
   "cell_type": "code",
   "execution_count": 29,
   "metadata": {},
   "outputs": [
    {
     "name": "stdout",
     "output_type": "stream",
     "text": [
      "{'status': 'Success', 'calculation_time': 0.012000083923339844, 'banzhaf_values': {'209': 24997410, '127': 24997410, '133': 24997410, '197': 196830, '108': 24997410, '205': 24997410, '91': 24997410, '264': 24997410, '8': 24997410, '225': 24997410, '270': 24997410, '217': 24997410, '134': 24997410, '219': 8332470, '40': 24997410, '263': 24997410, '7': 24997410, '110': 24997410, '35': 24997410, '152': 24997410, '156': 24997410, '65': 24997410, '175': 24997410, '116': 24997410, '885a829b-c4b0-4d16-b9c8-1daaca6f4316': 24997410, '164': 24997410, '176': 24997410, '24': 24997410, '268': 24997410, '269': -8332470, '214': 24997410, '234': 24997410, '201': 24997410, '277': 24997410, '246': 24997410, '344ea546-9f57-48b5-9ecc-f2b8c799fd8e': 0, '163': 24997410, '64': 24997410, '102': 24997410, '200': 24997410, '203': 8332470, '56': 24997410, '73c18799-b803-417e-95be-6008632605b5': 0, '106': 24997410, '139': 24997410, '178': 24997410, '15': 24997410, '273': 24997410, '39': 24997410, '183': 24997410, '8f25954b-281f-462f-a06c-fc3e59e5138b': -24997410, '62': 24997410, '125': 24997410, '90': 24997410, '0': 24997410, '172': 24997410, '30': 24997410, '161': 24997410, '100': 24997410, '261': 24997410, '221': 24997410, '122': 24997410, '16': 24997410, '92': 24997410, '59': 24997410, '182': 24997410, '115': 24997410, '191': 24997410, '66': 24997410, '173': 24997410, '174': 24997410, '146': 24997410, '55': 24997410, '206': 24997410, '257': 24997410, '254': 24997410, '96': 24997410, '229': 8332470, '47': 24997410, '46': 24997410, '266': 24997410, '77': 24997410, '78': 8332470, '117': 24997410, '241': 24997410, '126': 24997410, '162': -1666494, '196': 196830, 'b715ea71-bc11-499a-9417-9c484ba46b16': 8332470, '158': 24997410, '72': 24997410, '52': 24997410, '44': 24997410, '93c5bc3e-2e30-4b49-b060-2663b8829cf6': 0, '131': 24997410, '84': 24997410, '61': 24997410, '154': 24997410, '33': 24997410, '4': 24997410, '111': 24997410, '147': 24997410, '153': 24997410, '86': 24997410, '57': 24997410, '58': 24997410, '27': 24997410, '168': 24997410, '99': 24997410, '159': 24997410, '79': 24997410, '276': 24997410, '278': 24997410, '155': 24997410, '121': 24997410, '34': 24997410, '188': 24997410, '192': 24997410, '988a7eff-b495-42c4-b805-b339a09c17e4': 0, '207': 24997410, '37': 24997410, '240': 24997410, '38': 24997410, '74': 24997410, '18': 24997410, '230': 24997410, '235': 24997410, '243': 24997410, '251': 24997410, '83': 24997410, '211': 24997410, '136': 24997410, '28': 24997410, '244': 8332470, '67': 24997410, '272': 24997410, '179': 24997410, '238': 24997410, '242': 24997410, '271': 24997410, '198': 196830, '45': 24997410, '138': 24997410, '199': 196830, '101': 24997410, '227': 24997410, '71': 24997410, '208': 24997410, '113': 24997410, '48': 24997410, '21': 24997410, '75': 24997410, '54': 24997410, '9': 24997410, 'e061784f-2350-4776-9fb3-695b0083b60c': 24997410, '68': 24997410, '384d186d-3333-48d1-8635-20376cc41b5d': 0, '3': 24997410, '129': 24997410, '53': 24997410, '228': 24997410, '20': 24997410, '248': 24997410, '14': 24997410, '220': 24997410, '25': 24997410, '157': 24997410, '22': 24997410, '252': 24997410, 'af254d6a-f68a-42f3-baf2-7b26acbc3dee': 8332470, '69': 24997410, '245': 24997410, '267': 24997410, '114': 24997410, '167': 24997410, '250': 24997410, '137': 24997410, '10': 24997410, '189': 24997410, '302ab7dc-f39a-480d-821b-fad4020c54f9': 24997410, '36': 24997410, '258': 24997410, '184': 24997410, '160': 24997410, '11': 24997410, '63': 24997410, '226': 24997410, '185': 24997410, '150': 24997410, '124': 24997410, '60': 24997410, '60b32243-97b9-4c68-b693-73299de50a81': 24997410, 'ff520aff-e17d-4d91-8625-ed89b76fa5a4': 8332470, '247': 24997410, 'd8d9e884-f059-4224-aafb-ebce8e1629f4': 196830, '216': 24997410, '145': 24997410, '177': 24997410, '119': 24997410, '23': 24997410, '123': 24997410, '231': 24997410, '148': 24997410, '202': -8332470, '239': 24997410, '223': 24997410, '210': 24997410, '5': 24997410, '213': 24997410, '187': 24997410, '255': 24997410, '2': 24997410, '118': 24997410, '236': 24997410, '281': 497323236409786642155382248146820840100456150797347717440463976893159497012533350535646, '87': 24997410, '259': 24997410, '80': -1666494, '29': 24997410, '224': 24997410, '89': 24997410, '6': 24997410, '130': 24997410, '444b137e-a3e2-4433-8caf-68c61c62c5d9': 8332470, '249': 24997410, 'fc5422dc-0013-4b0f-b4af-f4e87faf8f12': 24997410, '186': 24997410, '12': 24997410, '204': 24997410, '149': 24997410, '120': 24997410, '93': 8332470, '1': 24997410, '256': 24997410, '17': 24997410, '194': 196830, '169': 24997410, '180': 24997410, '135': 24997410, '222': 24997410, '144': 24997410, '171': 24997410, '262': 24997410, '215': 24997410, '166': 24997410, '94': 24997410, '79020ea6-c94a-49fd-92b7-30795981424b': 24997410, '165': 24997410, '190': 24997410, '140': 24997410, '193': 24997410, '107': 24997410, '253': 24997410, '97': 24997410, '112': 24997410, '274': 24997410, '279': 24997410, '09a9ff5d-43be-4715-8287-3102cb666739': 8332470, '237': 24997410, '88': 24997410, '82': 24997410, '195': 196830, '104': 24997410, '275': 24997410, '151': 24997410, '233': 24997410, '85': 24997410, '265': 24997410, '105': 24997410, '95': 24997410, '232': 24997410, '73': 24997410, '143': 24997410, '76': 24997410, '212': 24997410, '13': 24997410, '103': 24997410, '128': 24997410, '260': 24997410, '109': 24997410, '181': 24997410, '26': 24997410, '51': 24997410, 'b32a9333-9ff6-4186-aba1-255fb292f437': 0, '280': 24997410, '70': 24997410, '9bc38b77-4294-4a67-9f87-d68b9bef8699': 8332470, '43': 24997410, '98': 24997410}}\n"
     ]
    }
   ],
   "source": [
    "result = calculate_banzhaf2(dtree, 3600)\n",
    "print(result)"
   ]
  }
 ],
 "metadata": {
  "kernelspec": {
   "display_name": "Python 3",
   "language": "python",
   "name": "python3"
  },
  "language_info": {
   "codemirror_mode": {
    "name": "ipython",
    "version": 3
   },
   "file_extension": ".py",
   "mimetype": "text/x-python",
   "name": "python",
   "nbconvert_exporter": "python",
   "pygments_lexer": "ipython3",
   "version": "3.12.0"
  }
 },
 "nbformat": 4,
 "nbformat_minor": 2
}
